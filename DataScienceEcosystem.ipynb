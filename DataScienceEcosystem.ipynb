{
 "cells": [
  {
   "cell_type": "markdown",
   "id": "0064b18a-307c-41ca-ac32-8766b5fb7f0d",
   "metadata": {},
   "source": [
    "<div style=\"text-align: right;\"><small>2-title</small></div>\n",
    "\n",
    "# Data Science Tools and Ecosystem\n",
    "\n",
    "\n",
    "\n"
   ]
  },
  {
   "cell_type": "markdown",
   "id": "b23c5790-c369-4229-83be-1fc36a794455",
   "metadata": {},
   "source": [
    "In this notebook, Data science tools and Ecosystem are summarized\n",
    "\n",
    "<div style=\"text-align: right;\"><small>3-intro</small></div>"
   ]
  },
  {
   "cell_type": "markdown",
   "id": "cf46ffe9-3b04-4226-851c-ee2b2966e5e2",
   "metadata": {},
   "source": [
    "##### Some of the commonly used langage that Data Scientists use are:\n",
    "- python\n",
    "- R\n",
    "- SQL\n",
    "\n",
    "  <div style=\"text-align: right;\"><small>4-dsLanguage</small></div>"
   ]
  },
  {
   "cell_type": "markdown",
   "id": "42b6c411-6732-4da9-88fc-006d18fae36e",
   "metadata": {},
   "source": [
    "##### Some of the commonly used libraries used by Data Scientists include:\n",
    "- **Pandas** (for Data Cleaning, manipulation and analysis)\n",
    "- **Numpy** (for Mathematical functions on Arrays)\n",
    "- **Matplotlib** (for Graph and Plots)\n",
    "- **Schikit-learn** (for statistical modelling\n",
    "\n",
    "<div style=\"text-align: right;\"><small>5-dsLibraries</small></div>"
   ]
  },
  {
   "cell_type": "markdown",
   "id": "30ed47a5-e0be-476c-8889-efff8eb839ed",
   "metadata": {},
   "source": [
    "| Data Science Tools|\n",
    "|--------------|\n",
    "|Apache Spark|\n",
    "|TensorFlow|\n",
    "|Jupyter Notebooks|\n",
    "\n",
    "<div style=\"text-align: right;\"><small>6-dsTools</small></div>"
   ]
  },
  {
   "cell_type": "markdown",
   "id": "5d35e275-a705-489f-b115-3004504c7e6f",
   "metadata": {},
   "source": [
    "<div style=\"text-align: right;\"><small>7-introarithmetics</small></div>\n",
    "\n",
    "### Below are a few examples of evaluating arithmetics expressions in Python\n",
    "\n"
   ]
  },
  {
   "cell_type": "code",
   "execution_count": 18,
   "id": "ec1b3a4c-96b2-4566-b5dd-6a6b545445d3",
   "metadata": {},
   "outputs": [
    {
     "data": {
      "text/plain": [
       "17"
      ]
     },
     "execution_count": 18,
     "metadata": {},
     "output_type": "execute_result"
    }
   ],
   "source": [
    "#This is a simple arithmetic expression to multiply them add integers\n",
    "(3*4)+5"
   ]
  },
  {
   "cell_type": "code",
   "execution_count": 17,
   "id": "98625b83-eec8-4949-ae6b-2e4e494600be",
   "metadata": {},
   "outputs": [
    {
     "data": {
      "text/plain": [
       "3.3333333333333335"
      ]
     },
     "execution_count": 17,
     "metadata": {},
     "output_type": "execute_result"
    }
   ],
   "source": [
    "#This will convert 200 minutes to hours by diving by 60\n",
    "200/60"
   ]
  },
  {
   "cell_type": "markdown",
   "id": "29533d05-78c9-4c67-aac9-95990310bb4c",
   "metadata": {},
   "source": [
    "***Objectives:***\n",
    "* Review the lesson key concepts\n",
    "* Get used with Jupyter Notebooks\n",
    "* list and review some of the popular tools for Data Science\n",
    "* list and review some popular Python Libraries for Data Science\n",
    "<div style=\"text-align: right;\"><small>10-objectives</small></div>"
   ]
  },
  {
   "cell_type": "markdown",
   "id": "1138c7bb-4ab8-43ed-93dc-7e48194f9c2d",
   "metadata": {},
   "source": [
    "## Author\n",
    "Alessandro Verrocchio\n",
    "<div style=\"text-align: right;\"><small>11-authordetails</small></div>"
   ]
  }
 ],
 "metadata": {
  "kernelspec": {
   "display_name": "Python 3 (ipykernel)",
   "language": "python",
   "name": "python3"
  },
  "language_info": {
   "codemirror_mode": {
    "name": "ipython",
    "version": 3
   },
   "file_extension": ".py",
   "mimetype": "text/x-python",
   "name": "python",
   "nbconvert_exporter": "python",
   "pygments_lexer": "ipython3",
   "version": "3.11.9"
  }
 },
 "nbformat": 4,
 "nbformat_minor": 5
}
